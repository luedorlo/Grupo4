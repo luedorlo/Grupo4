{
 "cells": [
  {
   "cell_type": "markdown",
   "metadata": {
    "id": "8Gfav9vwi_Yx"
   },
   "source": [
    "# EKS\n",
    "---"
   ]
  },
  {
   "cell_type": "markdown",
   "metadata": {},
   "source": [
    "Amazon EKS (Elastic Kubernetes Service) facilita la administración de clústeres de Kubernetes en la nube de AWS. EKS permite ejecutar, gestionar y escalar aplicaciones en contenedores utilizando Kubernetes, sin la necesidad de gestionar manualmente la infraestructura subyacente. Ofrece automatización en la creación y operación de los clústeres, lo que permite que las aplicaciones se mantengan disponibles y optimizadas para cualquier tipo de carga de trabajo."
   ]
  },
  {
   "cell_type": "code",
   "execution_count": 7,
   "metadata": {},
   "outputs": [
    {
     "name": "stdout",
     "output_type": "stream",
     "text": [
      "Región: Este de EE. UU. (Ohio)\n",
      "Costo mensual: 73.00\n",
      "Costo total (12 meses): 876.00\n"
     ]
    }
   ],
   "source": [
    "import json\n",
    "\n",
    "# Cargar el archivo JSON\n",
    "file_path_json = 'My Estimate.json'\n",
    "\n",
    "# Leer el archivo JSON\n",
    "with open(file_path_json, encoding='latin-1') as f:\n",
    "    data = json.load(f)\n",
    "\n",
    "# Buscar el servicio Amazon EKS\n",
    "for service in data['Grupos']['Servicios']:\n",
    "    if service['Nombre del servicio'].strip() == 'Amazon EKS':\n",
    "        eks_service = service\n",
    "        break\n",
    "\n",
    "# Imprimir los detalles que tienen información\n",
    "print(\"Región:\", eks_service['Región'])\n",
    "print(\"Costo mensual:\", eks_service['Costo del servicio']['mensual'])\n",
    "print(\"Costo total (12 meses):\", eks_service['Costo del servicio']['12 meses'])\n",
    "\n"
   ]
  },
  {
   "cell_type": "markdown",
   "metadata": {},
   "source": [
    "Amazon EKS fue configurado con clústeres gestionados automáticamente para garantizar la ejecución escalable de contenedores. La cantidad de clústeres se ajusta a las necesidades de la carga de trabajo. La elección de clústeres en EKS proporciona automatización y escalabilidad, optimizando el manejo de los contenedores sin requerir intervención manual.\n",
    "\n",
    "El costo mensual es de $73.00 USD\n",
    "\n",
    "El costo total para 12 meses es de $876.00 USD. \n",
    "\n",
    "Esta configuración ejecutar y gestiona aplicaciones en contenedores que requieren alta disponibilidad y flexibilidad, minimizando la gestión manual de la infraestructura y asegurando que la escalabilidad sea automática."
   ]
  },
  {
   "cell_type": "markdown",
   "metadata": {},
   "source": [
    "## Creación cluster\n",
    "\n",
    "---\n",
    "\n",
    "```bash\n",
    "aws eks create-cluster `\n",
    "    --name ClusterGrupo4 `\n",
    "    --region us-east-1 `\n",
    "    --kubernetes-version 1.30 `\n",
    "    --role-arn arn:aws:iam::206669603239:role/LabRole `\n",
    "    --resources-vpc-config subnetIds=subnet-01f1e0bb417953c9b,subnet-07e8ff40b5c55ac5a,securityGroupIds=sg-0c2557b5f8de630dd\n",
    "```"
   ]
  },
  {
   "cell_type": "markdown",
   "metadata": {},
   "source": [
    "---\n",
    "\n",
    "```bash\n",
    "aws eks create-nodegroup `\n",
    "    --cluster-name ClusterGrupo4 `\n",
    "    --nodegroup-name datos1 `\n",
    "    --scaling-config \"minSize=1,maxSize=3,desiredSize=2\" `\n",
    "    --subnets subnet-01f1e0bb417953c9b `\n",
    "    --instance-types \"c5.large\" `\n",
    "    --ami-type \"AL2_x86_64\" `\n",
    "    --node-role arn:aws:iam::206669603239:role/LabRole `\n",
    "    --disk-size 20 `\n",
    "    --region us-east-1 \n",
    "```"
   ]
  },
  {
   "cell_type": "markdown",
   "metadata": {},
   "source": [
    "---\n",
    "\n",
    "```bash\n",
    "aws eks create-nodegroup `\n",
    "    --cluster-name ClusterGrupo4 `\n",
    "    --nodegroup-name datos2 `\n",
    "    --scaling-config \"minSize=1,maxSize=3,desiredSize=2\" `\n",
    "    --subnets subnet-01f1e0bb417953c9b `\n",
    "    --instance-types \"c5.large\" `\n",
    "    --ami-type \"AL2_x86_64\" `\n",
    "    --node-role arn:aws:iam::206669603239:role/LabRole `\n",
    "    --disk-size 20 `\n",
    "    --region us-east-1\n",
    "```"
   ]
  },
  {
   "cell_type": "markdown",
   "metadata": {},
   "source": [
    "Configuración EKS en AWS\n",
    "\n",
    "![Configuración EKS en AWS](EKS.JPG)"
   ]
  }
 ],
 "metadata": {
  "colab": {
   "authorship_tag": "ABX9TyPpkOp5z4++Qo2VPzdU2xlV",
   "collapsed_sections": [],
   "mount_file_id": "1wiWP4VO74gDxJR7REftq_KV5rMGcx3p7",
   "name": "Notebook Principal Proyecto Final Julian Santos con Mapa.ipynb",
   "provenance": [],
   "toc_visible": true
  },
  "kernelspec": {
   "display_name": "base",
   "language": "python",
   "name": "python3"
  },
  "language_info": {
   "codemirror_mode": {
    "name": "ipython",
    "version": 3
   },
   "file_extension": ".py",
   "mimetype": "text/x-python",
   "name": "python",
   "nbconvert_exporter": "python",
   "pygments_lexer": "ipython3",
   "version": "3.12.5"
  }
 },
 "nbformat": 4,
 "nbformat_minor": 1
}
