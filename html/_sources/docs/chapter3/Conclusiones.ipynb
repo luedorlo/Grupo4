{
 "cells": [
  {
   "cell_type": "markdown",
   "metadata": {},
   "source": [
    "# Conclusiones"
   ]
  },
  {
   "cell_type": "markdown",
   "metadata": {},
   "source": [
    "- La arquitectura en AWS permite escalar y gestionar aplicaciones críticas sin necesidad de mantener infraestructura física, lo que asegura una asignación eficiente de recursos.\n",
    "\n",
    "- Los servicios seleccionados, como AWS Lambda y las instancias reservadas de EC2, optimizan el costo al pagar solo por el uso real de los recursos, eliminando sobrecostos innecesarios.\n",
    "\n",
    "- El uso de configuraciones como Multi-AZ en RDS y EKS asegura que los servicios se mantengan disponibles, incluso en caso de fallos, cumpliendo con los requisitos de continuidad operativa.\n",
    "\n",
    "- AWS IoT Core, EKS, y EC2 permiten ajustar automáticamente los recursos según las demandas de la carga de trabajo, garantizando que los sistemas puedan crecer de forma controlada y eficiente.\n",
    "\n",
    "- La arquitectura propuesta asegura la transmisión segura de datos desde los sensores hasta la nube, cumpliendo con los estándares de seguridad sin comprometer la integridad o la disponibilidad del servicio."
   ]
  }
 ],
 "metadata": {
  "language_info": {
   "name": "python"
  }
 },
 "nbformat": 4,
 "nbformat_minor": 2
}
