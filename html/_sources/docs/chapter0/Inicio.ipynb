{
 "cells": [
  {
   "cell_type": "markdown",
   "metadata": {},
   "source": [
    "# Caso de Uso"
   ]
  },
  {
   "cell_type": "markdown",
   "metadata": {},
   "source": [
    "Grupo 4. Caso de Uso: \"Análisis Energético Global\"\n"
   ]
  },
  {
   "cell_type": "markdown",
   "metadata": {},
   "source": [
    "## Descripción\n",
    "------"
   ]
  },
  {
   "cell_type": "markdown",
   "metadata": {},
   "source": [
    "Esta compañía se especializa en la optimización del consumo energético para grandes instalaciones industriales. Utilizan algoritmos de machine learning para analizar el consumo en tiempo real y ofrecer recomendaciones de ahorro energético.\n",
    "\n",
    "Solución Propuesta:\n",
    "\n",
    "El equipo desarrollará una solución que use EC2 para el procesamiento de datos en tiempo real, RDS para el almacenamiento histórico, y AWS IoT Core para conectar sensores de consumo energético. Los algoritmos de optimización se contenerizarán con Docker y se recomienda usar AWS Lambda para la ejecución de funciones en tiempo real. ECS o EKS permitirá gestionar los contenedores a escala.\n",
    "\n",
    "Ingresos Operacionales: US$ 2 millones\n",
    "Margen Operacional: 20%\n",
    "Número de Empleados: 15\n"
   ]
  }
 ],
 "metadata": {
  "colab": {
   "authorship_tag": "ABX9TyPpkOp5z4++Qo2VPzdU2xlV",
   "collapsed_sections": [],
   "mount_file_id": "1wiWP4VO74gDxJR7REftq_KV5rMGcx3p7",
   "name": "Notebook Principal Proyecto Final Julian Santos con Mapa.ipynb",
   "provenance": [],
   "toc_visible": true
  },
  "kernelspec": {
   "display_name": "Python 3 (ipykernel)",
   "language": "python",
   "name": "python3"
  },
  "language_info": {
   "codemirror_mode": {
    "name": "ipython",
    "version": 3
   },
   "file_extension": ".py",
   "mimetype": "text/x-python",
   "name": "python",
   "nbconvert_exporter": "python",
   "pygments_lexer": "ipython3",
   "version": "3.9.7"
  }
 },
 "nbformat": 4,
 "nbformat_minor": 1
}
