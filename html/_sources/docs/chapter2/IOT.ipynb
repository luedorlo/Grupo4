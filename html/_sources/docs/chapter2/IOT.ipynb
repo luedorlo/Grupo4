{
 "cells": [
  {
   "cell_type": "markdown",
   "metadata": {
    "id": "8Gfav9vwi_Yx"
   },
   "source": [
    "# IOT Core\n",
    "---"
   ]
  },
  {
   "cell_type": "markdown",
   "metadata": {},
   "source": [
    "AWS IoT Core es un servicio que permite conectar de forma segura dispositivos de IoT (Internet of Things) a la nube de AWS. Facilita la captura, procesamiento y análisis de los datos generados por los dispositivos en tiempo real, utilizando protocolos como MQTT. \n",
    "\n",
    "AWS IoT Core gestiona millones de dispositivos y mensajes, garantizando un bajo costo por mensaje y alta disponibilidad."
   ]
  },
  {
   "cell_type": "code",
   "execution_count": 1,
   "metadata": {},
   "outputs": [
    {
     "name": "stdout",
     "output_type": "stream",
     "text": [
      "Nombre del servicio: MQTT\n",
      "Región: Este de EE. UU. (Ohio)\n",
      "Costo mensual: 0.18\n",
      "Costo total (12 meses): 2.16\n",
      "Propiedades:\n",
      "  Número de dispositivos (MQTT): 50\n",
      "  Número de mensajes de un dispositivo: 1\n",
      "  Número medio de acciones ejecutadas por regla: 1\n",
      "  Tamaño promedio de cada mensaje: 1 KB\n",
      "  Tamaño promedio de cada registro: 1 KB\n"
     ]
    }
   ],
   "source": [
    "import json\n",
    "\n",
    "# Cargar el archivo JSON\n",
    "file_path_json = 'My Estimate.json'\n",
    "\n",
    "# Leer el archivo JSON\n",
    "with open(file_path_json, encoding='latin-1') as f:\n",
    "    data = json.load(f)\n",
    "\n",
    "# Buscar el servicio MQTT (IoT Core)\n",
    "for service in data['Grupos']['Servicios']:\n",
    "    if service['Nombre del servicio'].strip() == 'MQTT':\n",
    "        iot_service = service\n",
    "        break\n",
    "\n",
    "# Mostrar los detalles del servicio AWS IoT Core (MQTT)\n",
    "print(\"Nombre del servicio:\", iot_service['Nombre del servicio'])\n",
    "print(\"Región:\", iot_service['Región'])\n",
    "print(\"Costo mensual:\", iot_service['Costo del servicio']['mensual'])\n",
    "print(\"Costo total (12 meses):\", iot_service['Costo del servicio']['12 meses'])\n",
    "print(\"Propiedades:\")\n",
    "for key, value in iot_service['Propiedades'].items():\n",
    "    print(f\"  {key}: {value}\")\n"
   ]
  },
  {
   "cell_type": "markdown",
   "metadata": {},
   "source": [
    "La configuración de AWS IoT Core (MQTT) permite conectar y gestionar hasta 50 dispositivos de manera segura. Se ha configurado para procesar mensajes con un tamaño promedio de 1 KB y un volumen bajo de acciones ejecutadas por mensaje, optimizando el costo de transmisión. \n",
    "\n",
    "El costo mensual estimado es de $0.18 USD.\n",
    "\n",
    "El costo total para 12 meses es de $2.16 USD.\n",
    "\n",
    "Este servicio permite gestionar la comunicación de los sensores de consumo energético, proporcionando una plataforma escalable y segura para procesar datos en tiempo real sin necesidad de infraestructura física compleja. La configuración actual asegura que los costos sean mínimos, pero que la plataforma pueda escalar para manejar más dispositivos en el futuro."
   ]
  }
 ],
 "metadata": {
  "colab": {
   "authorship_tag": "ABX9TyPpkOp5z4++Qo2VPzdU2xlV",
   "collapsed_sections": [],
   "mount_file_id": "1wiWP4VO74gDxJR7REftq_KV5rMGcx3p7",
   "name": "Notebook Principal Proyecto Final Julian Santos con Mapa.ipynb",
   "provenance": [],
   "toc_visible": true
  },
  "kernelspec": {
   "display_name": "base",
   "language": "python",
   "name": "python3"
  },
  "language_info": {
   "codemirror_mode": {
    "name": "ipython",
    "version": 3
   },
   "file_extension": ".py",
   "mimetype": "text/x-python",
   "name": "python",
   "nbconvert_exporter": "python",
   "pygments_lexer": "ipython3",
   "version": "3.12.5"
  }
 },
 "nbformat": 4,
 "nbformat_minor": 1
}
