{
 "cells": [
  {
   "cell_type": "markdown",
   "metadata": {
    "id": "8Gfav9vwi_Yx"
   },
   "source": [
    "# LAMBDA\n",
    "---"
   ]
  },
  {
   "cell_type": "markdown",
   "metadata": {},
   "source": [
    "AWS Lambda es un servicio de cómputo sin servidor que permite ejecutar código en respuesta a eventos, eliminando la necesidad de administrar servidores. Lambda se encarga de toda la infraestructura necesaria para ejecutar las funciones, lo que reduce la complejidad operativa y permite una facturación basada en la cantidad de solicitudes y el tiempo de ejecución."
   ]
  },
  {
   "cell_type": "code",
   "execution_count": 1,
   "metadata": {},
   "outputs": [
    {
     "name": "stdout",
     "output_type": "stream",
     "text": [
      "Nombre del servicio: AWS Lambda\n",
      "Región: Este de EE. UU. (Ohio)\n",
      "Costo mensual: 0.00\n",
      "Costo total (12 meses): 0.00\n",
      "Propiedades:\n",
      "  Modo de invocación: En búfer\n",
      "  Arquitectura: x86\n",
      "  Cantidad de solicitudes: 50 por día\n",
      "  Cantidad de almacenamiento efímero asignado: 512 MB\n"
     ]
    }
   ],
   "source": [
    "import json\n",
    "\n",
    "# Cargar el archivo JSON\n",
    "file_path_json = 'My Estimate.json'\n",
    "\n",
    "# Leer el archivo JSON\n",
    "with open(file_path_json, encoding='latin-1') as f:\n",
    "    data = json.load(f)\n",
    "\n",
    "# Buscar el servicio AWS Lambda\n",
    "for service in data['Grupos']['Servicios']:\n",
    "    if service['Nombre del servicio'].strip() == 'AWS Lambda':\n",
    "        lambda_service = service\n",
    "        break\n",
    "\n",
    "# Mostrar los detalles del servicio AWS Lambda\n",
    "print(\"Nombre del servicio:\", lambda_service['Nombre del servicio'])\n",
    "print(\"Región:\", lambda_service['Región'])\n",
    "print(\"Costo mensual:\", lambda_service['Costo del servicio']['mensual'])\n",
    "print(\"Costo total (12 meses):\", lambda_service['Costo del servicio']['12 meses'])\n",
    "print(\"Propiedades:\")\n",
    "for key, value in lambda_service['Propiedades'].items():\n",
    "    print(f\"  {key}: {value}\")\n"
   ]
  },
  {
   "cell_type": "markdown",
   "metadata": {},
   "source": [
    "AWS Lambda está configurado para invocar funciones en modo en búfer, utilizando la arquitectura x86. La cantidad de solicitudes se ha fijado en 50 por día, lo que optimiza el uso del servicio según la demanda. Además, se ha asignado un almacenamiento de 512 MB para soportar las funciones durante su ejecución.\n",
    "\n",
    "El costo estimado para este servicio es $0.00 USD, tanto mensual como para un período de 12 meses, ya que se basa en la cantidad de invocaciones realizadas y el tiempo de ejecución, ambos en niveles bajos. Esta configuración permite ejecutar tareas en tiempo real sin costos fijos, optimizando la eficiencia operativa al eliminar la necesidad de mantener servidores dedicados."
   ]
  }
 ],
 "metadata": {
  "colab": {
   "authorship_tag": "ABX9TyPpkOp5z4++Qo2VPzdU2xlV",
   "collapsed_sections": [],
   "mount_file_id": "1wiWP4VO74gDxJR7REftq_KV5rMGcx3p7",
   "name": "Notebook Principal Proyecto Final Julian Santos con Mapa.ipynb",
   "provenance": [],
   "toc_visible": true
  },
  "kernelspec": {
   "display_name": "base",
   "language": "python",
   "name": "python3"
  },
  "language_info": {
   "codemirror_mode": {
    "name": "ipython",
    "version": 3
   },
   "file_extension": ".py",
   "mimetype": "text/x-python",
   "name": "python",
   "nbconvert_exporter": "python",
   "pygments_lexer": "ipython3",
   "version": "3.12.5"
  }
 },
 "nbformat": 4,
 "nbformat_minor": 1
}
