{
 "cells": [
  {
   "cell_type": "markdown",
   "metadata": {
    "id": "8Gfav9vwi_Yx"
   },
   "source": [
    "# EC2\n",
    "---"
   ]
  },
  {
   "cell_type": "markdown",
   "metadata": {},
   "source": [
    "Amazon EC2 (Elastic Compute Cloud) es un servicio que proporciona capacidad de cómputo escalable en la nube. Está diseñado para facilitar la creación y ejecución de aplicaciones, permitiendo a las empresas ajustar la capacidad de procesamiento según sus necesidades, pagando solo por los recursos que utilizan. EC2 ofrece una amplia variedad de instancias optimizadas para diferentes tipos de cargas de trabajo, desde pequeñas aplicaciones hasta procesamiento intensivo de datos, con opciones de pago por uso o instancias reservadas para ahorrar costos a largo plazo."
   ]
  },
  {
   "cell_type": "code",
   "execution_count": 1,
   "metadata": {},
   "outputs": [
    {
     "name": "stdout",
     "output_type": "stream",
     "text": [
      "Nombre del servicio: Amazon EC2 \n",
      "Descripción: Procesamiento de datos\n",
      "Región: Este de EE. UU. (Ohio)\n",
      "Costo mensual: 147.18\n",
      "Costo total (12 meses): 1766.16\n",
      "Propiedades:\n",
      "  Tenencia: Instancias compartidas\n",
      "  Sistema operativo: Linux\n",
      "  Carga de trabajo: Consistent, Cantidad de instancias: 3\n",
      "  Instancia EC2 por adelantado: c5.large\n",
      "  Pricing strategy: Instancias reservadas convertibles 1yr  No Upfront\n",
      "  Habilitar la monitorización: desactivado\n",
      "  EBS Cantidad de almacenamiento: 10 GB\n",
      "  DT Entrada: Todas las demás regiones: 0 TB al mes\n",
      "  DT Salida: Internet: 100 GB al mes\n",
      "  DT Intra-región:: 0 TB al mes\n"
     ]
    }
   ],
   "source": [
    "import json\n",
    "\n",
    "# Cargar el archivo JSON\n",
    "file_path_json = 'My Estimate.json'\n",
    "\n",
    "# Leer el archivo JSON\n",
    "with open(file_path_json, encoding='latin-1') as f:\n",
    "    data = json.load(f)\n",
    "\n",
    "# Buscar el servicio Amazon EC2\n",
    "for service in data['Grupos']['Servicios']:\n",
    "    if service['Nombre del servicio'].strip() == 'Amazon EC2':\n",
    "        ec2_service = service\n",
    "        break\n",
    "\n",
    "# Imprimir los detalles del servicio Amazon EC2\n",
    "print(\"Nombre del servicio:\", ec2_service['Nombre del servicio'])\n",
    "print(\"Descripción:\", ec2_service['Descripción'])\n",
    "print(\"Región:\", ec2_service['Región'])\n",
    "print(\"Costo mensual:\", ec2_service['Costo del servicio']['mensual'])\n",
    "print(\"Costo total (12 meses):\", ec2_service['Costo del servicio']['12 meses'])\n",
    "print(\"Propiedades:\")\n",
    "for key, value in ec2_service['Propiedades'].items():\n",
    "    print(f\"  {key}: {value}\")\n"
   ]
  },
  {
   "cell_type": "markdown",
   "metadata": {},
   "source": [
    "Las opciones seleccionadas para Amazon EC2 están diseñadas para optimizar los recursos y costos según las necesidades operativas de la empresa. Se eligieron instancias compartidas, lo cual es eficiente en términos de costos al aprovechar hardware compartido. El sistema operativo Linux es económico y flexible para la mayoría de las aplicaciones en la nube.\n",
    "\n",
    "La carga de trabajo consistente, con tres instancias del tipo c5.large, proporciona el equilibrio adecuado entre capacidad de procesamiento y costo, siendo ideal para tareas de procesamiento en tiempo real. La estrategia de precios basada en instancias reservadas convertibles a 1 año reduce los costos, al tiempo que ofrece flexibilidad para ajustar las instancias según sea necesario.\n",
    "\n",
    "El almacenamiento EBS de 10 GB cubre los requerimientos de datos temporales de la aplicación, mientras que la transferencia de datos de 100 GB de salida a Internet por mes es suficiente para la comunicación externa de la aplicación. Esta configuración asegura un uso eficiente de los recursos de AWS sin comprometer el rendimiento."
   ]
  },
  {
   "cell_type": "markdown",
   "metadata": {},
   "source": [
    "Configuración EC2 en AWS\n",
    "\n",
    "![Configuración EC2 en AWS](EC2.JPG)"
   ]
  }
 ],
 "metadata": {
  "colab": {
   "authorship_tag": "ABX9TyPpkOp5z4++Qo2VPzdU2xlV",
   "collapsed_sections": [],
   "mount_file_id": "1wiWP4VO74gDxJR7REftq_KV5rMGcx3p7",
   "name": "Notebook Principal Proyecto Final Julian Santos con Mapa.ipynb",
   "provenance": [],
   "toc_visible": true
  },
  "kernelspec": {
   "display_name": "base",
   "language": "python",
   "name": "python3"
  },
  "language_info": {
   "codemirror_mode": {
    "name": "ipython",
    "version": 3
   },
   "file_extension": ".py",
   "mimetype": "text/x-python",
   "name": "python",
   "nbconvert_exporter": "python",
   "pygments_lexer": "ipython3",
   "version": "3.12.5"
  }
 },
 "nbformat": 4,
 "nbformat_minor": 1
}
