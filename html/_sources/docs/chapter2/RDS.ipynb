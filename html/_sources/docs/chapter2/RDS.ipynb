{
 "cells": [
  {
   "cell_type": "markdown",
   "metadata": {
    "id": "8Gfav9vwi_Yx"
   },
   "source": [
    "# RDS\n",
    "---"
   ]
  },
  {
   "cell_type": "markdown",
   "metadata": {},
   "source": [
    "Amazon RDS for PostgreSQL es un servicio de base de datos gestionado que facilita la configuración, operación y escalabilidad de bases de datos PostgreSQL en la nube. Proporciona almacenamiento de datos histórico con opciones de alta disponibilidad y escalabilidad automática, lo que lo convierte en una solución ideal para grandes volúmenes de datos. Multi-AZ ofrece redundancia y tolerancia a fallos, asegurando que los datos siempre estén disponibles, incluso en caso de fallos en un nodo."
   ]
  },
  {
   "cell_type": "code",
   "execution_count": 1,
   "metadata": {},
   "outputs": [
    {
     "name": "stdout",
     "output_type": "stream",
     "text": [
      "Nombre del servicio: Amazon RDS for PostgreSQL\n",
      "Descripción: Almacenamiento histórico\n",
      "Región: Este de EE. UU. (Ohio)\n",
      "Costo mensual: 3141.20\n",
      "Costo total (12 meses): 37694.40\n",
      "Propiedades:\n",
      "  Cantidad de almacenamiento: 100 GB\n",
      "  Volumen de almacenamiento: SSD de uso general (gp2)\n",
      "  Nodos: 2\n",
      "  Tipo de instancia: db.r5.2xlarge\n",
      "  Utilización (solo bajo demanda): 100 %Utilized/Month\n",
      "  Opción de implementación: Multi-AZ\n",
      "  Modelo de precios: OnDemand\n",
      "  Almacenamiento de copias de seguridad adicional: 0 GB\n"
     ]
    }
   ],
   "source": [
    "import json\n",
    "\n",
    "# Cargar el archivo JSON\n",
    "file_path_json = 'My Estimate.json'\n",
    "\n",
    "# Leer el archivo JSON\n",
    "with open(file_path_json, encoding='latin-1') as f:\n",
    "    data = json.load(f)\n",
    "\n",
    "# Buscar el servicio Amazon RDS for PostgreSQL\n",
    "for service in data['Grupos']['Servicios']:\n",
    "    if service['Nombre del servicio'].strip() == 'Amazon RDS for PostgreSQL':\n",
    "        rds_service = service\n",
    "        break\n",
    "\n",
    "# Imprimir los detalles del servicio Amazon RDS for PostgreSQL\n",
    "print(\"Nombre del servicio:\", rds_service['Nombre del servicio'])\n",
    "print(\"Descripción:\", rds_service['Descripción'])\n",
    "print(\"Región:\", rds_service['Región'])\n",
    "print(\"Costo mensual:\", rds_service['Costo del servicio']['mensual'])\n",
    "print(\"Costo total (12 meses):\", rds_service['Costo del servicio']['12 meses'])\n",
    "print(\"Propiedades:\")\n",
    "for key, value in rds_service['Propiedades'].items():\n",
    "    print(f\"  {key}: {value}\")\n"
   ]
  },
  {
   "cell_type": "markdown",
   "metadata": {},
   "source": [
    "RDS se ha configurado para gestionar el almacenamiento de datos históricos de consumo energético. La opción seleccionada es PostgreSQL, que proporciona un equilibrio entre rendimiento y capacidad de manejo de consultas complejas. Se ha configurado con una implementación Multi-AZ para garantizar la alta disponibilidad y la tolerancia a fallos, lo que asegura la continuidad del servicio incluso en casos de interrupciones.\n",
    "\n",
    "El almacenamiento asignado es de 100 GB, suficiente para manejar los datos históricos de los clientes. El tipo de almacenamiento es SSD de uso general (gp2), que garantiza un rendimiento sólido para cargas de trabajo de lectura y escritura moderadas. El tipo de instancia seleccionado es db.r5.2xlarge, que ofrece un alto rendimiento con 8 vCPUs y 64 GB de RAM, asegurando que la base de datos pueda manejar eficientemente las consultas pesadas de datos.\n",
    "\n",
    "El modelo de precios es OnDemand, que permite flexibilidad en el uso sin compromisos de largo plazo. Esta configuración asegura que la empresa pueda ajustar sus recursos de base de datos según la demanda, sin pagar por capacidad que no se utiliza.\n",
    "\n",
    "El costo mensual para esta configuración es de  $3,141.20 USD.\n",
    "\n",
    "El costo total de $37,694.40 USD para un período de 12 meses.\n"
   ]
  },
  {
   "cell_type": "markdown",
   "metadata": {},
   "source": [
    "## Creación\n",
    "\n",
    "```bash\n",
    "aws rds create-db-instance `\n",
    "    --db-instance-identifier Grupo4-mysql `\n",
    "    --db-instance-class db.t4g.micro `\n",
    "    --engine mysql `\n",
    "    --allocated-storage 20 `\n",
    "    --master-username \"unisabanagrupo4\" `\n",
    "    --master-user-password \"unisabanagrupo4\" `\n",
    "    --backup-retention-period 0 `\n",
    "    --vpc-security-group-ids \"sg-0c2557b5f8de630dd\" `\n",
    "    --db-name \"grupo4_db\" `\n",
    "    --port 3306 `\n",
    "```"
   ]
  },
  {
   "cell_type": "markdown",
   "metadata": {},
   "source": [
    "Configuración RDS en AWS\n",
    "\n",
    "![Configuración RDS en AWS](RDS.JPG)"
   ]
  }
 ],
 "metadata": {
  "colab": {
   "authorship_tag": "ABX9TyPpkOp5z4++Qo2VPzdU2xlV",
   "collapsed_sections": [],
   "mount_file_id": "1wiWP4VO74gDxJR7REftq_KV5rMGcx3p7",
   "name": "Notebook Principal Proyecto Final Julian Santos con Mapa.ipynb",
   "provenance": [],
   "toc_visible": true
  },
  "kernelspec": {
   "display_name": "base",
   "language": "python",
   "name": "python3"
  },
  "language_info": {
   "codemirror_mode": {
    "name": "ipython",
    "version": 3
   },
   "file_extension": ".py",
   "mimetype": "text/x-python",
   "name": "python",
   "nbconvert_exporter": "python",
   "pygments_lexer": "ipython3",
   "version": "3.12.5"
  }
 },
 "nbformat": 4,
 "nbformat_minor": 1
}
